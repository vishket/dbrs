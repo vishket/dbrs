{
 "cells": [
  {
   "cell_type": "markdown",
   "metadata": {},
   "source": [
    "# DBRS Technical Assessment"
   ]
  },
  {
   "cell_type": "markdown",
   "metadata": {},
   "source": [
    "## Import Pandas"
   ]
  },
  {
   "cell_type": "code",
   "execution_count": 192,
   "metadata": {
    "collapsed": true
   },
   "outputs": [],
   "source": [
    "import pandas as pd"
   ]
  },
  {
   "cell_type": "markdown",
   "metadata": {},
   "source": [
    "## Task 1 "
   ]
  },
  {
   "cell_type": "markdown",
   "metadata": {},
   "source": [
    "1) Load data(2017_SR_Subset) into a dataframe df1\n",
    "\n",
    "2) Fetch 10 common 'complaint_types' and store as a Series\n",
    "\n",
    "3) Filter dataframe rows only if value in 'complaint_type' column is present in series\n",
    "\n",
    "4) Group dataframe rows by 'borough', and for each 'borough', count occurrence of 'top_10_complaint_type'"
   ]
  },
  {
   "cell_type": "code",
   "execution_count": 193,
   "metadata": {
    "collapsed": true
   },
   "outputs": [],
   "source": [
    "# Read csv dataset into a dataframe\n",
    "df1 = pd.read_csv('2017_SR_subet_vs.csv', low_memory=False)"
   ]
  },
  {
   "cell_type": "code",
   "execution_count": 194,
   "metadata": {},
   "outputs": [
    {
     "name": "stdout",
     "output_type": "stream",
     "text": [
      "<class 'pandas.core.frame.DataFrame'>\n",
      "RangeIndex: 2439273 entries, 0 to 2439272\n",
      "Data columns (total 6 columns):\n",
      "Unique Key        int64\n",
      "Created Date      object\n",
      "Complaint Type    object\n",
      "Incident Zip      object\n",
      "City              object\n",
      "Borough           object\n",
      "dtypes: int64(1), object(5)\n",
      "memory usage: 111.7+ MB\n"
     ]
    }
   ],
   "source": [
    "# Inspect dataframe\n",
    "df1.info()"
   ]
  },
  {
   "cell_type": "code",
   "execution_count": 210,
   "metadata": {
    "collapsed": true
   },
   "outputs": [],
   "source": [
    "# Rename dataframe column names\n",
    "df1.rename(columns={'Complaint Type': 'complaint_type', 'Borough': 'borough', 'Incident Zip':'incident_zip'}, inplace=True)"
   ]
  },
  {
   "cell_type": "code",
   "execution_count": 200,
   "metadata": {
    "collapsed": true
   },
   "outputs": [],
   "source": [
    "# Get the 10 common complaint types\n",
    "top_10_complaint_types = df1['complaint_type'].value_counts().head(10)"
   ]
  },
  {
   "cell_type": "code",
   "execution_count": 201,
   "metadata": {},
   "outputs": [
    {
     "data": {
      "text/plain": [
       "Noise - Residential        229395\n",
       "HEAT/HOT WATER             210750\n",
       "Illegal Parking            145883\n",
       "Blocked Driveway           135677\n",
       "Street Condition            93231\n",
       "Street Light Condition      84174\n",
       "UNSANITARY CONDITION        79183\n",
       "Noise - Street/Sidewalk     73053\n",
       "Water System                64953\n",
       "Noise                       60122\n",
       "Name: complaint_type, dtype: int64"
      ]
     },
     "execution_count": 201,
     "metadata": {},
     "output_type": "execute_result"
    }
   ],
   "source": [
    "top_10_complaint_types"
   ]
  },
  {
   "cell_type": "code",
   "execution_count": 202,
   "metadata": {},
   "outputs": [],
   "source": [
    "result1 = df1[df1.complaint_type.isin(top_10_complaint_types.index.tolist())][['borough', 'complaint_type']].groupby(['borough', 'complaint_type'])['complaint_type'].count()"
   ]
  },
  {
   "cell_type": "code",
   "execution_count": 265,
   "metadata": {
    "scrolled": true
   },
   "outputs": [
    {
     "data": {
      "text/plain": [
       "borough        complaint_type         \n",
       "BRONX          Blocked Driveway           24480\n",
       "               HEAT/HOT WATER             67828\n",
       "               Illegal Parking            16099\n",
       "               Noise                       3131\n",
       "               Noise - Residential        57420\n",
       "               Noise - Street/Sidewalk    14024\n",
       "               Street Condition           11759\n",
       "               Street Light Condition     18408\n",
       "               UNSANITARY CONDITION       24530\n",
       "               Water System               10193\n",
       "BROOKLYN       Blocked Driveway           49154\n",
       "               HEAT/HOT WATER             66079\n",
       "               Illegal Parking            55306\n",
       "               Noise                      15401\n",
       "               Noise - Residential        67482\n",
       "               Noise - Street/Sidewalk    21306\n",
       "               Street Condition           25413\n",
       "               Street Light Condition     22447\n",
       "               UNSANITARY CONDITION       26636\n",
       "               Water System               19769\n",
       "MANHATTAN      Blocked Driveway            3420\n",
       "               HEAT/HOT WATER             45931\n",
       "               Illegal Parking            19669\n",
       "               Noise                      28982\n",
       "               Noise - Residential        50814\n",
       "               Noise - Street/Sidewalk    29127\n",
       "               Street Condition           14833\n",
       "               Street Light Condition     11073\n",
       "               UNSANITARY CONDITION       14619\n",
       "               Water System               10896\n",
       "QUEENS         Blocked Driveway           54142\n",
       "               HEAT/HOT WATER             28870\n",
       "               Illegal Parking            45960\n",
       "               Noise                      10679\n",
       "               Noise - Residential        46252\n",
       "               Noise - Street/Sidewalk     7526\n",
       "               Street Condition           30625\n",
       "               Street Light Condition     24255\n",
       "               UNSANITARY CONDITION       11449\n",
       "               Water System               18762\n",
       "STATEN ISLAND  Blocked Driveway            3465\n",
       "               HEAT/HOT WATER              2042\n",
       "               Illegal Parking             7574\n",
       "               Noise                       1926\n",
       "               Noise - Residential         6744\n",
       "               Noise - Street/Sidewalk      853\n",
       "               Street Condition           10559\n",
       "               Street Light Condition      6595\n",
       "               UNSANITARY CONDITION        1949\n",
       "               Water System                5333\n",
       "Unspecified    Blocked Driveway            1016\n",
       "               Illegal Parking             1275\n",
       "               Noise                          3\n",
       "               Noise - Residential          683\n",
       "               Noise - Street/Sidewalk      217\n",
       "               Street Condition              42\n",
       "               Street Light Condition      1396\n",
       "Name: complaint_type, dtype: int64"
      ]
     },
     "execution_count": 265,
     "metadata": {},
     "output_type": "execute_result"
    }
   ],
   "source": [
    "result1"
   ]
  },
  {
   "cell_type": "markdown",
   "metadata": {},
   "source": [
    "## Task 2"
   ]
  },
  {
   "cell_type": "markdown",
   "metadata": {},
   "source": [
    "1) Load '2010_population.csv' dataset into a dataframe as df2\n",
    "\n",
    "2) Sort \"Population\" column in descending order and limit first 10 rows. Save into a Pandas Series 'top_10_populous'\n",
    "\n",
    "3) Filter out df1 for rows with 'incident_zip' present in 'top_10_populous'\n",
    "\n",
    "4) Group df2 by incident zip, and for each zip count 'complaint_type' "
   ]
  },
  {
   "cell_type": "code",
   "execution_count": 204,
   "metadata": {
    "collapsed": true
   },
   "outputs": [],
   "source": [
    "df2 = pd.read_csv('2010_census.csv')"
   ]
  },
  {
   "cell_type": "code",
   "execution_count": 205,
   "metadata": {},
   "outputs": [
    {
     "data": {
      "text/html": [
       "<div>\n",
       "<style>\n",
       "    .dataframe thead tr:only-child th {\n",
       "        text-align: right;\n",
       "    }\n",
       "\n",
       "    .dataframe thead th {\n",
       "        text-align: left;\n",
       "    }\n",
       "\n",
       "    .dataframe tbody tr th {\n",
       "        vertical-align: top;\n",
       "    }\n",
       "</style>\n",
       "<table border=\"1\" class=\"dataframe\">\n",
       "  <thead>\n",
       "    <tr style=\"text-align: right;\">\n",
       "      <th></th>\n",
       "      <th>Zip Code ZCTA</th>\n",
       "      <th>2010 Census Population</th>\n",
       "    </tr>\n",
       "  </thead>\n",
       "  <tbody>\n",
       "    <tr>\n",
       "      <th>0</th>\n",
       "      <td>1001</td>\n",
       "      <td>16769</td>\n",
       "    </tr>\n",
       "    <tr>\n",
       "      <th>1</th>\n",
       "      <td>1002</td>\n",
       "      <td>29049</td>\n",
       "    </tr>\n",
       "    <tr>\n",
       "      <th>2</th>\n",
       "      <td>1003</td>\n",
       "      <td>10372</td>\n",
       "    </tr>\n",
       "    <tr>\n",
       "      <th>3</th>\n",
       "      <td>1005</td>\n",
       "      <td>5079</td>\n",
       "    </tr>\n",
       "    <tr>\n",
       "      <th>4</th>\n",
       "      <td>1007</td>\n",
       "      <td>14649</td>\n",
       "    </tr>\n",
       "  </tbody>\n",
       "</table>\n",
       "</div>"
      ],
      "text/plain": [
       "   Zip Code ZCTA  2010 Census Population\n",
       "0           1001                   16769\n",
       "1           1002                   29049\n",
       "2           1003                   10372\n",
       "3           1005                    5079\n",
       "4           1007                   14649"
      ]
     },
     "execution_count": 205,
     "metadata": {},
     "output_type": "execute_result"
    }
   ],
   "source": [
    "df2.head()"
   ]
  },
  {
   "cell_type": "code",
   "execution_count": 206,
   "metadata": {},
   "outputs": [
    {
     "name": "stdout",
     "output_type": "stream",
     "text": [
      "<class 'pandas.core.frame.DataFrame'>\n",
      "RangeIndex: 33092 entries, 0 to 33091\n",
      "Data columns (total 2 columns):\n",
      "Zip Code ZCTA             33092 non-null int64\n",
      "2010 Census Population    33092 non-null int64\n",
      "dtypes: int64(2)\n",
      "memory usage: 517.1 KB\n"
     ]
    }
   ],
   "source": [
    "df2.info()"
   ]
  },
  {
   "cell_type": "code",
   "execution_count": 207,
   "metadata": {
    "collapsed": true
   },
   "outputs": [],
   "source": [
    "top_10_populous = df2.sort_values(by=['2010 Census Population'], ascending=False).head(10)"
   ]
  },
  {
   "cell_type": "code",
   "execution_count": 211,
   "metadata": {},
   "outputs": [],
   "source": [
    "result2 = df1[df1.incident_zip.isin(top_10_populous.index.tolist())][['incident_zip', 'complaint_type']].groupby(['incident_zip', 'complaint_type'])['complaint_type'].count()"
   ]
  },
  {
   "cell_type": "code",
   "execution_count": 264,
   "metadata": {},
   "outputs": [
    {
     "data": {
      "text/plain": [
       "Series([], Name: complaint_type, dtype: int64)"
      ]
     },
     "execution_count": 264,
     "metadata": {},
     "output_type": "execute_result"
    }
   ],
   "source": [
    "result2"
   ]
  },
  {
   "cell_type": "markdown",
   "metadata": {},
   "source": [
    "## Task 3"
   ]
  },
  {
   "cell_type": "markdown",
   "metadata": {},
   "source": [
    "1) Get total complaints for each borough\n",
    "\n",
    "2) Get total population for each borough\n",
    "\n",
    "3) Add a new column \"diff\" that stores difference between total complaints and total population for each borough\n",
    "\n",
    "4) Sort dataframe on \"diff\" in descending order"
   ]
  },
  {
   "cell_type": "code",
   "execution_count": 213,
   "metadata": {},
   "outputs": [
    {
     "data": {
      "text/plain": [
       "2439273"
      ]
     },
     "execution_count": 213,
     "metadata": {},
     "output_type": "execute_result"
    }
   ],
   "source": [
    "# Total complaints\n",
    "df1.groupby(['borough', 'complaint_type'])['complaint_type'].count().sum()"
   ]
  },
  {
   "cell_type": "code",
   "execution_count": 254,
   "metadata": {},
   "outputs": [],
   "source": [
    "# Total complaints per borough\n",
    "total_complaints = df1.groupby('borough')['complaint_type'].count()\n"
   ]
  },
  {
   "cell_type": "code",
   "execution_count": 255,
   "metadata": {},
   "outputs": [
    {
     "data": {
      "text/plain": [
       "borough\n",
       "BRONX            447470\n",
       "BROOKLYN         759090\n",
       "MANHATTAN        479015\n",
       "QUEENS           585721\n",
       "STATEN ISLAND    126529\n",
       "Unspecified       41448\n",
       "Name: complaint_type, dtype: int64"
      ]
     },
     "execution_count": 255,
     "metadata": {},
     "output_type": "execute_result"
    }
   ],
   "source": [
    "# Validate that df3 has all borough's\n",
    "total_complaints"
   ]
  },
  {
   "cell_type": "code",
   "execution_count": 256,
   "metadata": {},
   "outputs": [],
   "source": [
    "# Create new dataframe consisting of borough and corresponding total complaint count\n",
    "df3 = pd.DataFrame({'borough':total_complaints.index, 'total_complaints':total_complaints.values})"
   ]
  },
  {
   "cell_type": "code",
   "execution_count": 257,
   "metadata": {},
   "outputs": [
    {
     "data": {
      "text/html": [
       "<div>\n",
       "<style>\n",
       "    .dataframe thead tr:only-child th {\n",
       "        text-align: right;\n",
       "    }\n",
       "\n",
       "    .dataframe thead th {\n",
       "        text-align: left;\n",
       "    }\n",
       "\n",
       "    .dataframe tbody tr th {\n",
       "        vertical-align: top;\n",
       "    }\n",
       "</style>\n",
       "<table border=\"1\" class=\"dataframe\">\n",
       "  <thead>\n",
       "    <tr style=\"text-align: right;\">\n",
       "      <th></th>\n",
       "      <th>borough</th>\n",
       "      <th>total_complaints</th>\n",
       "    </tr>\n",
       "  </thead>\n",
       "  <tbody>\n",
       "    <tr>\n",
       "      <th>0</th>\n",
       "      <td>BRONX</td>\n",
       "      <td>447470</td>\n",
       "    </tr>\n",
       "    <tr>\n",
       "      <th>1</th>\n",
       "      <td>BROOKLYN</td>\n",
       "      <td>759090</td>\n",
       "    </tr>\n",
       "    <tr>\n",
       "      <th>2</th>\n",
       "      <td>MANHATTAN</td>\n",
       "      <td>479015</td>\n",
       "    </tr>\n",
       "    <tr>\n",
       "      <th>3</th>\n",
       "      <td>QUEENS</td>\n",
       "      <td>585721</td>\n",
       "    </tr>\n",
       "    <tr>\n",
       "      <th>4</th>\n",
       "      <td>STATEN ISLAND</td>\n",
       "      <td>126529</td>\n",
       "    </tr>\n",
       "    <tr>\n",
       "      <th>5</th>\n",
       "      <td>Unspecified</td>\n",
       "      <td>41448</td>\n",
       "    </tr>\n",
       "  </tbody>\n",
       "</table>\n",
       "</div>"
      ],
      "text/plain": [
       "         borough  total_complaints\n",
       "0          BRONX            447470\n",
       "1       BROOKLYN            759090\n",
       "2      MANHATTAN            479015\n",
       "3         QUEENS            585721\n",
       "4  STATEN ISLAND            126529\n",
       "5    Unspecified             41448"
      ]
     },
     "execution_count": 257,
     "metadata": {},
     "output_type": "execute_result"
    }
   ],
   "source": [
    "df3"
   ]
  },
  {
   "cell_type": "code",
   "execution_count": 258,
   "metadata": {
    "collapsed": true
   },
   "outputs": [],
   "source": [
    "# Add new column for population\n",
    "# Dummy value\n",
    "df3['population'] = 0"
   ]
  },
  {
   "cell_type": "code",
   "execution_count": 259,
   "metadata": {},
   "outputs": [
    {
     "data": {
      "text/html": [
       "<div>\n",
       "<style>\n",
       "    .dataframe thead tr:only-child th {\n",
       "        text-align: right;\n",
       "    }\n",
       "\n",
       "    .dataframe thead th {\n",
       "        text-align: left;\n",
       "    }\n",
       "\n",
       "    .dataframe tbody tr th {\n",
       "        vertical-align: top;\n",
       "    }\n",
       "</style>\n",
       "<table border=\"1\" class=\"dataframe\">\n",
       "  <thead>\n",
       "    <tr style=\"text-align: right;\">\n",
       "      <th></th>\n",
       "      <th>borough</th>\n",
       "      <th>total_complaints</th>\n",
       "      <th>population</th>\n",
       "    </tr>\n",
       "  </thead>\n",
       "  <tbody>\n",
       "    <tr>\n",
       "      <th>0</th>\n",
       "      <td>BRONX</td>\n",
       "      <td>447470</td>\n",
       "      <td>0</td>\n",
       "    </tr>\n",
       "    <tr>\n",
       "      <th>1</th>\n",
       "      <td>BROOKLYN</td>\n",
       "      <td>759090</td>\n",
       "      <td>0</td>\n",
       "    </tr>\n",
       "    <tr>\n",
       "      <th>2</th>\n",
       "      <td>MANHATTAN</td>\n",
       "      <td>479015</td>\n",
       "      <td>0</td>\n",
       "    </tr>\n",
       "    <tr>\n",
       "      <th>3</th>\n",
       "      <td>QUEENS</td>\n",
       "      <td>585721</td>\n",
       "      <td>0</td>\n",
       "    </tr>\n",
       "    <tr>\n",
       "      <th>4</th>\n",
       "      <td>STATEN ISLAND</td>\n",
       "      <td>126529</td>\n",
       "      <td>0</td>\n",
       "    </tr>\n",
       "    <tr>\n",
       "      <th>5</th>\n",
       "      <td>Unspecified</td>\n",
       "      <td>41448</td>\n",
       "      <td>0</td>\n",
       "    </tr>\n",
       "  </tbody>\n",
       "</table>\n",
       "</div>"
      ],
      "text/plain": [
       "         borough  total_complaints  population\n",
       "0          BRONX            447470           0\n",
       "1       BROOKLYN            759090           0\n",
       "2      MANHATTAN            479015           0\n",
       "3         QUEENS            585721           0\n",
       "4  STATEN ISLAND            126529           0\n",
       "5    Unspecified             41448           0"
      ]
     },
     "execution_count": 259,
     "metadata": {},
     "output_type": "execute_result"
    }
   ],
   "source": [
    "df3"
   ]
  },
  {
   "cell_type": "code",
   "execution_count": 261,
   "metadata": {},
   "outputs": [],
   "source": [
    "# Calculate difference between total complaints and population for each borough. Add the difference in a new column\n",
    "df3['diff'] = df3['total_complaints'] - df3['population']"
   ]
  },
  {
   "cell_type": "code",
   "execution_count": 263,
   "metadata": {},
   "outputs": [
    {
     "data": {
      "text/html": [
       "<div>\n",
       "<style>\n",
       "    .dataframe thead tr:only-child th {\n",
       "        text-align: right;\n",
       "    }\n",
       "\n",
       "    .dataframe thead th {\n",
       "        text-align: left;\n",
       "    }\n",
       "\n",
       "    .dataframe tbody tr th {\n",
       "        vertical-align: top;\n",
       "    }\n",
       "</style>\n",
       "<table border=\"1\" class=\"dataframe\">\n",
       "  <thead>\n",
       "    <tr style=\"text-align: right;\">\n",
       "      <th></th>\n",
       "      <th>borough</th>\n",
       "      <th>total_complaints</th>\n",
       "      <th>population</th>\n",
       "      <th>diff</th>\n",
       "    </tr>\n",
       "  </thead>\n",
       "  <tbody>\n",
       "    <tr>\n",
       "      <th>1</th>\n",
       "      <td>BROOKLYN</td>\n",
       "      <td>759090</td>\n",
       "      <td>0</td>\n",
       "      <td>759090</td>\n",
       "    </tr>\n",
       "    <tr>\n",
       "      <th>3</th>\n",
       "      <td>QUEENS</td>\n",
       "      <td>585721</td>\n",
       "      <td>0</td>\n",
       "      <td>585721</td>\n",
       "    </tr>\n",
       "    <tr>\n",
       "      <th>2</th>\n",
       "      <td>MANHATTAN</td>\n",
       "      <td>479015</td>\n",
       "      <td>0</td>\n",
       "      <td>479015</td>\n",
       "    </tr>\n",
       "    <tr>\n",
       "      <th>0</th>\n",
       "      <td>BRONX</td>\n",
       "      <td>447470</td>\n",
       "      <td>0</td>\n",
       "      <td>447470</td>\n",
       "    </tr>\n",
       "    <tr>\n",
       "      <th>4</th>\n",
       "      <td>STATEN ISLAND</td>\n",
       "      <td>126529</td>\n",
       "      <td>0</td>\n",
       "      <td>126529</td>\n",
       "    </tr>\n",
       "    <tr>\n",
       "      <th>5</th>\n",
       "      <td>Unspecified</td>\n",
       "      <td>41448</td>\n",
       "      <td>0</td>\n",
       "      <td>41448</td>\n",
       "    </tr>\n",
       "  </tbody>\n",
       "</table>\n",
       "</div>"
      ],
      "text/plain": [
       "         borough  total_complaints  population    diff\n",
       "1       BROOKLYN            759090           0  759090\n",
       "3         QUEENS            585721           0  585721\n",
       "2      MANHATTAN            479015           0  479015\n",
       "0          BRONX            447470           0  447470\n",
       "4  STATEN ISLAND            126529           0  126529\n",
       "5    Unspecified             41448           0   41448"
      ]
     },
     "execution_count": 263,
     "metadata": {},
     "output_type": "execute_result"
    }
   ],
   "source": [
    "# Sort by difference\n",
    "df3.sort_values(by=['diff'], ascending=False)"
   ]
  },
  {
   "cell_type": "code",
   "execution_count": null,
   "metadata": {
    "collapsed": true
   },
   "outputs": [],
   "source": []
  }
 ],
 "metadata": {
  "kernelspec": {
   "display_name": "Python 2",
   "language": "python",
   "name": "python2"
  },
  "language_info": {
   "codemirror_mode": {
    "name": "ipython",
    "version": 2
   },
   "file_extension": ".py",
   "mimetype": "text/x-python",
   "name": "python",
   "nbconvert_exporter": "python",
   "pygments_lexer": "ipython2",
   "version": "2.7.10"
  }
 },
 "nbformat": 4,
 "nbformat_minor": 2
}
