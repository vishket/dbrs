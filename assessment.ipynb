{
 "cells": [
  {
   "cell_type": "markdown",
   "metadata": {},
   "source": [
    "# DBRS Technical Assessment"
   ]
  },
  {
   "cell_type": "markdown",
   "metadata": {},
   "source": [
    "## Import Pandas"
   ]
  },
  {
   "cell_type": "code",
   "execution_count": 3,
   "metadata": {
    "collapsed": true
   },
   "outputs": [],
   "source": [
    "import pandas as pd"
   ]
  },
  {
   "cell_type": "markdown",
   "metadata": {},
   "source": [
    "## Task 1 "
   ]
  },
  {
   "cell_type": "markdown",
   "metadata": {},
   "source": [
    "1) Load data(2017_SR_Subset) into a dataframe df1\n",
    "\n",
    "2) Fetch 10 common 'complaint_types' and store as a Series\n",
    "\n",
    "3) Filter dataframe rows only if value in 'complaint_type' column is present in series\n",
    "\n",
    "4) Group dataframe rows by 'borough', and for each 'borough', count occurrence of 'top_10_complaint_type'"
   ]
  },
  {
   "cell_type": "code",
   "execution_count": 4,
   "metadata": {
    "collapsed": true
   },
   "outputs": [],
   "source": [
    "# Read csv dataset into a dataframe\n",
    "df1 = pd.read_csv('2017_SR_subet_vs.csv', low_memory=False)"
   ]
  },
  {
   "cell_type": "code",
   "execution_count": 194,
   "metadata": {},
   "outputs": [
    {
     "name": "stdout",
     "output_type": "stream",
     "text": [
      "<class 'pandas.core.frame.DataFrame'>\n",
      "RangeIndex: 2439273 entries, 0 to 2439272\n",
      "Data columns (total 6 columns):\n",
      "Unique Key        int64\n",
      "Created Date      object\n",
      "Complaint Type    object\n",
      "Incident Zip      object\n",
      "City              object\n",
      "Borough           object\n",
      "dtypes: int64(1), object(5)\n",
      "memory usage: 111.7+ MB\n"
     ]
    }
   ],
   "source": [
    "# Inspect dataframe\n",
    "df1.info()"
   ]
  },
  {
   "cell_type": "code",
   "execution_count": 5,
   "metadata": {
    "collapsed": true
   },
   "outputs": [],
   "source": [
    "# Rename dataframe column names\n",
    "df1.rename(columns={'Complaint Type': 'complaint_type', 'Borough': 'borough', 'Incident Zip':'incident_zip'}, inplace=True)"
   ]
  },
  {
   "cell_type": "code",
   "execution_count": 145,
   "metadata": {
    "collapsed": true
   },
   "outputs": [],
   "source": [
    "# Get the 10 common complaint types\n",
    "top_10_complaint_types = df1['complaint_type'].value_counts().head(10)"
   ]
  },
  {
   "cell_type": "code",
   "execution_count": 144,
   "metadata": {},
   "outputs": [
    {
     "data": {
      "text/html": [
       "<div>\n",
       "<style>\n",
       "    .dataframe thead tr:only-child th {\n",
       "        text-align: right;\n",
       "    }\n",
       "\n",
       "    .dataframe thead th {\n",
       "        text-align: left;\n",
       "    }\n",
       "\n",
       "    .dataframe tbody tr th {\n",
       "        vertical-align: top;\n",
       "    }\n",
       "</style>\n",
       "<table border=\"1\" class=\"dataframe\">\n",
       "  <thead>\n",
       "    <tr style=\"text-align: right;\">\n",
       "      <th></th>\n",
       "      <th>Unique Key</th>\n",
       "      <th>Created Date</th>\n",
       "      <th>complaint_type</th>\n",
       "      <th>incident_zip</th>\n",
       "      <th>City</th>\n",
       "      <th>borough</th>\n",
       "    </tr>\n",
       "  </thead>\n",
       "  <tbody>\n",
       "    <tr>\n",
       "      <th>0</th>\n",
       "      <td>35148177</td>\n",
       "      <td>01/01/2017 12:00:00 AM</td>\n",
       "      <td>Rodent</td>\n",
       "      <td>11435</td>\n",
       "      <td>JAMAICA</td>\n",
       "      <td>QUEENS</td>\n",
       "    </tr>\n",
       "    <tr>\n",
       "      <th>1</th>\n",
       "      <td>35148176</td>\n",
       "      <td>01/01/2017 12:00:00 AM</td>\n",
       "      <td>Rodent</td>\n",
       "      <td>10009</td>\n",
       "      <td>NEW YORK</td>\n",
       "      <td>MANHATTAN</td>\n",
       "    </tr>\n",
       "    <tr>\n",
       "      <th>2</th>\n",
       "      <td>35148085</td>\n",
       "      <td>01/01/2017 12:00:00 AM</td>\n",
       "      <td>Rodent</td>\n",
       "      <td>11418</td>\n",
       "      <td>RICHMOND HILL</td>\n",
       "      <td>QUEENS</td>\n",
       "    </tr>\n",
       "    <tr>\n",
       "      <th>3</th>\n",
       "      <td>35147948</td>\n",
       "      <td>01/01/2017 12:00:00 AM</td>\n",
       "      <td>Rodent</td>\n",
       "      <td>11694</td>\n",
       "      <td>Rockaway Park</td>\n",
       "      <td>QUEENS</td>\n",
       "    </tr>\n",
       "    <tr>\n",
       "      <th>4</th>\n",
       "      <td>35147881</td>\n",
       "      <td>01/01/2017 12:00:00 AM</td>\n",
       "      <td>Rodent</td>\n",
       "      <td>11210</td>\n",
       "      <td>BROOKLYN</td>\n",
       "      <td>BROOKLYN</td>\n",
       "    </tr>\n",
       "  </tbody>\n",
       "</table>\n",
       "</div>"
      ],
      "text/plain": [
       "   Unique Key            Created Date complaint_type incident_zip  \\\n",
       "0    35148177  01/01/2017 12:00:00 AM         Rodent        11435   \n",
       "1    35148176  01/01/2017 12:00:00 AM         Rodent        10009   \n",
       "2    35148085  01/01/2017 12:00:00 AM         Rodent        11418   \n",
       "3    35147948  01/01/2017 12:00:00 AM         Rodent        11694   \n",
       "4    35147881  01/01/2017 12:00:00 AM         Rodent        11210   \n",
       "\n",
       "            City    borough  \n",
       "0        JAMAICA     QUEENS  \n",
       "1       NEW YORK  MANHATTAN  \n",
       "2  RICHMOND HILL     QUEENS  \n",
       "3  Rockaway Park     QUEENS  \n",
       "4       BROOKLYN   BROOKLYN  "
      ]
     },
     "execution_count": 144,
     "metadata": {},
     "output_type": "execute_result"
    }
   ],
   "source": [
    "df1.head()"
   ]
  },
  {
   "cell_type": "code",
   "execution_count": 149,
   "metadata": {},
   "outputs": [
    {
     "data": {
      "text/plain": [
       "Noise - Residential        229395\n",
       "HEAT/HOT WATER             210750\n",
       "Illegal Parking            145883\n",
       "Blocked Driveway           135677\n",
       "Street Condition            93231\n",
       "Street Light Condition      84174\n",
       "UNSANITARY CONDITION        79183\n",
       "Noise - Street/Sidewalk     73053\n",
       "Water System                64953\n",
       "Noise                       60122\n",
       "Name: complaint_type, dtype: int64"
      ]
     },
     "execution_count": 149,
     "metadata": {},
     "output_type": "execute_result"
    }
   ],
   "source": [
    "top_10_complaint_types"
   ]
  },
  {
   "cell_type": "code",
   "execution_count": 8,
   "metadata": {
    "collapsed": true
   },
   "outputs": [],
   "source": [
    "result1 = df1[df1.complaint_type.isin(top_10_complaint_types.index.tolist())][['borough', 'complaint_type']].groupby(['borough', 'complaint_type'])['complaint_type'].count()"
   ]
  },
  {
   "cell_type": "code",
   "execution_count": 265,
   "metadata": {
    "scrolled": true
   },
   "outputs": [
    {
     "data": {
      "text/plain": [
       "borough        complaint_type         \n",
       "BRONX          Blocked Driveway           24480\n",
       "               HEAT/HOT WATER             67828\n",
       "               Illegal Parking            16099\n",
       "               Noise                       3131\n",
       "               Noise - Residential        57420\n",
       "               Noise - Street/Sidewalk    14024\n",
       "               Street Condition           11759\n",
       "               Street Light Condition     18408\n",
       "               UNSANITARY CONDITION       24530\n",
       "               Water System               10193\n",
       "BROOKLYN       Blocked Driveway           49154\n",
       "               HEAT/HOT WATER             66079\n",
       "               Illegal Parking            55306\n",
       "               Noise                      15401\n",
       "               Noise - Residential        67482\n",
       "               Noise - Street/Sidewalk    21306\n",
       "               Street Condition           25413\n",
       "               Street Light Condition     22447\n",
       "               UNSANITARY CONDITION       26636\n",
       "               Water System               19769\n",
       "MANHATTAN      Blocked Driveway            3420\n",
       "               HEAT/HOT WATER             45931\n",
       "               Illegal Parking            19669\n",
       "               Noise                      28982\n",
       "               Noise - Residential        50814\n",
       "               Noise - Street/Sidewalk    29127\n",
       "               Street Condition           14833\n",
       "               Street Light Condition     11073\n",
       "               UNSANITARY CONDITION       14619\n",
       "               Water System               10896\n",
       "QUEENS         Blocked Driveway           54142\n",
       "               HEAT/HOT WATER             28870\n",
       "               Illegal Parking            45960\n",
       "               Noise                      10679\n",
       "               Noise - Residential        46252\n",
       "               Noise - Street/Sidewalk     7526\n",
       "               Street Condition           30625\n",
       "               Street Light Condition     24255\n",
       "               UNSANITARY CONDITION       11449\n",
       "               Water System               18762\n",
       "STATEN ISLAND  Blocked Driveway            3465\n",
       "               HEAT/HOT WATER              2042\n",
       "               Illegal Parking             7574\n",
       "               Noise                       1926\n",
       "               Noise - Residential         6744\n",
       "               Noise - Street/Sidewalk      853\n",
       "               Street Condition           10559\n",
       "               Street Light Condition      6595\n",
       "               UNSANITARY CONDITION        1949\n",
       "               Water System                5333\n",
       "Unspecified    Blocked Driveway            1016\n",
       "               Illegal Parking             1275\n",
       "               Noise                          3\n",
       "               Noise - Residential          683\n",
       "               Noise - Street/Sidewalk      217\n",
       "               Street Condition              42\n",
       "               Street Light Condition      1396\n",
       "Name: complaint_type, dtype: int64"
      ]
     },
     "execution_count": 265,
     "metadata": {},
     "output_type": "execute_result"
    }
   ],
   "source": [
    "result1"
   ]
  },
  {
   "cell_type": "markdown",
   "metadata": {},
   "source": [
    "## Task 2"
   ]
  },
  {
   "cell_type": "markdown",
   "metadata": {},
   "source": [
    "1) Load '2010_population.csv' dataset into a dataframe as df2\n",
    "\n",
    "2) Sort \"Population\" column in descending order and limit first 10 rows. Save into a Pandas Series 'top_10_populous'\n",
    "\n",
    "3) Filter out df1 for rows with 'incident_zip' present in 'top_10_populous'\n",
    "\n",
    "4) Group df2 by incident zip, and for each zip count 'complaint_type' "
   ]
  },
  {
   "cell_type": "code",
   "execution_count": 9,
   "metadata": {
    "collapsed": true
   },
   "outputs": [],
   "source": [
    "df2 = pd.read_csv('2010_census.csv')"
   ]
  },
  {
   "cell_type": "code",
   "execution_count": 205,
   "metadata": {},
   "outputs": [
    {
     "data": {
      "text/html": [
       "<div>\n",
       "<style>\n",
       "    .dataframe thead tr:only-child th {\n",
       "        text-align: right;\n",
       "    }\n",
       "\n",
       "    .dataframe thead th {\n",
       "        text-align: left;\n",
       "    }\n",
       "\n",
       "    .dataframe tbody tr th {\n",
       "        vertical-align: top;\n",
       "    }\n",
       "</style>\n",
       "<table border=\"1\" class=\"dataframe\">\n",
       "  <thead>\n",
       "    <tr style=\"text-align: right;\">\n",
       "      <th></th>\n",
       "      <th>Zip Code ZCTA</th>\n",
       "      <th>2010 Census Population</th>\n",
       "    </tr>\n",
       "  </thead>\n",
       "  <tbody>\n",
       "    <tr>\n",
       "      <th>0</th>\n",
       "      <td>1001</td>\n",
       "      <td>16769</td>\n",
       "    </tr>\n",
       "    <tr>\n",
       "      <th>1</th>\n",
       "      <td>1002</td>\n",
       "      <td>29049</td>\n",
       "    </tr>\n",
       "    <tr>\n",
       "      <th>2</th>\n",
       "      <td>1003</td>\n",
       "      <td>10372</td>\n",
       "    </tr>\n",
       "    <tr>\n",
       "      <th>3</th>\n",
       "      <td>1005</td>\n",
       "      <td>5079</td>\n",
       "    </tr>\n",
       "    <tr>\n",
       "      <th>4</th>\n",
       "      <td>1007</td>\n",
       "      <td>14649</td>\n",
       "    </tr>\n",
       "  </tbody>\n",
       "</table>\n",
       "</div>"
      ],
      "text/plain": [
       "   Zip Code ZCTA  2010 Census Population\n",
       "0           1001                   16769\n",
       "1           1002                   29049\n",
       "2           1003                   10372\n",
       "3           1005                    5079\n",
       "4           1007                   14649"
      ]
     },
     "execution_count": 205,
     "metadata": {},
     "output_type": "execute_result"
    }
   ],
   "source": [
    "df2.head()"
   ]
  },
  {
   "cell_type": "code",
   "execution_count": 125,
   "metadata": {},
   "outputs": [
    {
     "data": {
      "text/html": [
       "<div>\n",
       "<style>\n",
       "    .dataframe thead tr:only-child th {\n",
       "        text-align: right;\n",
       "    }\n",
       "\n",
       "    .dataframe thead th {\n",
       "        text-align: left;\n",
       "    }\n",
       "\n",
       "    .dataframe tbody tr th {\n",
       "        vertical-align: top;\n",
       "    }\n",
       "</style>\n",
       "<table border=\"1\" class=\"dataframe\">\n",
       "  <thead>\n",
       "    <tr style=\"text-align: right;\">\n",
       "      <th></th>\n",
       "      <th>Zip Code ZCTA</th>\n",
       "      <th>2010 Census Population</th>\n",
       "    </tr>\n",
       "  </thead>\n",
       "  <tbody>\n",
       "    <tr>\n",
       "      <th>200</th>\n",
       "      <td>1583</td>\n",
       "      <td>7591</td>\n",
       "    </tr>\n",
       "    <tr>\n",
       "      <th>234</th>\n",
       "      <td>1757</td>\n",
       "      <td>28061</td>\n",
       "    </tr>\n",
       "    <tr>\n",
       "      <th>323</th>\n",
       "      <td>2062</td>\n",
       "      <td>28602</td>\n",
       "    </tr>\n",
       "    <tr>\n",
       "      <th>332</th>\n",
       "      <td>2109</td>\n",
       "      <td>3771</td>\n",
       "    </tr>\n",
       "    <tr>\n",
       "      <th>528</th>\n",
       "      <td>2767</td>\n",
       "      <td>13566</td>\n",
       "    </tr>\n",
       "  </tbody>\n",
       "</table>\n",
       "</div>"
      ],
      "text/plain": [
       "     Zip Code ZCTA  2010 Census Population\n",
       "200           1583                    7591\n",
       "234           1757                   28061\n",
       "323           2062                   28602\n",
       "332           2109                    3771\n",
       "528           2767                   13566"
      ]
     },
     "execution_count": 125,
     "metadata": {},
     "output_type": "execute_result"
    }
   ],
   "source": [
    "df1_list = df1['incident_zip'].tolist()\n",
    "population_by_zip = df2.loc[df2['Zip Code ZCTA'].isin(df1_list)]\n",
    "population_by_zip.head()"
   ]
  },
  {
   "cell_type": "code",
   "execution_count": 117,
   "metadata": {},
   "outputs": [
    {
     "data": {
      "text/html": [
       "<div>\n",
       "<style>\n",
       "    .dataframe thead tr:only-child th {\n",
       "        text-align: right;\n",
       "    }\n",
       "\n",
       "    .dataframe thead th {\n",
       "        text-align: left;\n",
       "    }\n",
       "\n",
       "    .dataframe tbody tr th {\n",
       "        vertical-align: top;\n",
       "    }\n",
       "</style>\n",
       "<table border=\"1\" class=\"dataframe\">\n",
       "  <thead>\n",
       "    <tr style=\"text-align: right;\">\n",
       "      <th></th>\n",
       "      <th>Zip Code ZCTA</th>\n",
       "      <th>2010 Census Population</th>\n",
       "    </tr>\n",
       "  </thead>\n",
       "  <tbody>\n",
       "    <tr>\n",
       "      <th>2748</th>\n",
       "      <td>11368</td>\n",
       "      <td>109931</td>\n",
       "    </tr>\n",
       "    <tr>\n",
       "      <th>2720</th>\n",
       "      <td>11226</td>\n",
       "      <td>101572</td>\n",
       "    </tr>\n",
       "    <tr>\n",
       "      <th>2753</th>\n",
       "      <td>11373</td>\n",
       "      <td>100820</td>\n",
       "    </tr>\n",
       "    <tr>\n",
       "      <th>2714</th>\n",
       "      <td>11220</td>\n",
       "      <td>99598</td>\n",
       "    </tr>\n",
       "    <tr>\n",
       "      <th>2759</th>\n",
       "      <td>11385</td>\n",
       "      <td>98592</td>\n",
       "    </tr>\n",
       "    <tr>\n",
       "      <th>2527</th>\n",
       "      <td>10467</td>\n",
       "      <td>97060</td>\n",
       "    </tr>\n",
       "    <tr>\n",
       "      <th>2451</th>\n",
       "      <td>10025</td>\n",
       "      <td>94600</td>\n",
       "    </tr>\n",
       "    <tr>\n",
       "      <th>2702</th>\n",
       "      <td>11208</td>\n",
       "      <td>94469</td>\n",
       "    </tr>\n",
       "    <tr>\n",
       "      <th>2729</th>\n",
       "      <td>11236</td>\n",
       "      <td>93877</td>\n",
       "    </tr>\n",
       "    <tr>\n",
       "      <th>2701</th>\n",
       "      <td>11207</td>\n",
       "      <td>93386</td>\n",
       "    </tr>\n",
       "  </tbody>\n",
       "</table>\n",
       "</div>"
      ],
      "text/plain": [
       "      Zip Code ZCTA  2010 Census Population\n",
       "2748          11368                  109931\n",
       "2720          11226                  101572\n",
       "2753          11373                  100820\n",
       "2714          11220                   99598\n",
       "2759          11385                   98592\n",
       "2527          10467                   97060\n",
       "2451          10025                   94600\n",
       "2702          11208                   94469\n",
       "2729          11236                   93877\n",
       "2701          11207                   93386"
      ]
     },
     "execution_count": 117,
     "metadata": {},
     "output_type": "execute_result"
    }
   ],
   "source": [
    "top_10_populous = population_by_zip.sort_values(by=['2010 Census Population'], ascending=False).head(10)\n",
    "top_10_populous"
   ]
  },
  {
   "cell_type": "code",
   "execution_count": 150,
   "metadata": {},
   "outputs": [
    {
     "data": {
      "text/html": [
       "<div>\n",
       "<style>\n",
       "    .dataframe thead tr:only-child th {\n",
       "        text-align: right;\n",
       "    }\n",
       "\n",
       "    .dataframe thead th {\n",
       "        text-align: left;\n",
       "    }\n",
       "\n",
       "    .dataframe tbody tr th {\n",
       "        vertical-align: top;\n",
       "    }\n",
       "</style>\n",
       "<table border=\"1\" class=\"dataframe\">\n",
       "  <thead>\n",
       "    <tr style=\"text-align: right;\">\n",
       "      <th></th>\n",
       "      <th>Zip Code ZCTA</th>\n",
       "      <th>2010 Census Population</th>\n",
       "    </tr>\n",
       "  </thead>\n",
       "  <tbody>\n",
       "    <tr>\n",
       "      <th>2748</th>\n",
       "      <td>11368</td>\n",
       "      <td>109931</td>\n",
       "    </tr>\n",
       "    <tr>\n",
       "      <th>2720</th>\n",
       "      <td>11226</td>\n",
       "      <td>101572</td>\n",
       "    </tr>\n",
       "    <tr>\n",
       "      <th>2753</th>\n",
       "      <td>11373</td>\n",
       "      <td>100820</td>\n",
       "    </tr>\n",
       "    <tr>\n",
       "      <th>2714</th>\n",
       "      <td>11220</td>\n",
       "      <td>99598</td>\n",
       "    </tr>\n",
       "    <tr>\n",
       "      <th>2759</th>\n",
       "      <td>11385</td>\n",
       "      <td>98592</td>\n",
       "    </tr>\n",
       "    <tr>\n",
       "      <th>2527</th>\n",
       "      <td>10467</td>\n",
       "      <td>97060</td>\n",
       "    </tr>\n",
       "    <tr>\n",
       "      <th>2451</th>\n",
       "      <td>10025</td>\n",
       "      <td>94600</td>\n",
       "    </tr>\n",
       "    <tr>\n",
       "      <th>2702</th>\n",
       "      <td>11208</td>\n",
       "      <td>94469</td>\n",
       "    </tr>\n",
       "    <tr>\n",
       "      <th>2729</th>\n",
       "      <td>11236</td>\n",
       "      <td>93877</td>\n",
       "    </tr>\n",
       "    <tr>\n",
       "      <th>2701</th>\n",
       "      <td>11207</td>\n",
       "      <td>93386</td>\n",
       "    </tr>\n",
       "  </tbody>\n",
       "</table>\n",
       "</div>"
      ],
      "text/plain": [
       "      Zip Code ZCTA  2010 Census Population\n",
       "2748          11368                  109931\n",
       "2720          11226                  101572\n",
       "2753          11373                  100820\n",
       "2714          11220                   99598\n",
       "2759          11385                   98592\n",
       "2527          10467                   97060\n",
       "2451          10025                   94600\n",
       "2702          11208                   94469\n",
       "2729          11236                   93877\n",
       "2701          11207                   93386"
      ]
     },
     "execution_count": 150,
     "metadata": {},
     "output_type": "execute_result"
    }
   ],
   "source": [
    "df1_zip_list = df1['incident_zip'].tolist()\n",
    "top_10_populous[top_10_populous['Zip Code ZCTA'].isin(df1_zip_list)]\n"
   ]
  },
  {
   "cell_type": "markdown",
   "metadata": {},
   "source": [
    "## Task 3"
   ]
  },
  {
   "cell_type": "markdown",
   "metadata": {},
   "source": [
    "1) Get total complaints for each borough\n",
    "\n",
    "2) Get total population for each borough\n",
    "\n",
    "3) Add a new column \"diff\" that stores difference between total complaints and total population for each borough\n",
    "\n",
    "4) Sort dataframe on \"diff\" in descending order"
   ]
  },
  {
   "cell_type": "code",
   "execution_count": 156,
   "metadata": {},
   "outputs": [
    {
     "data": {
      "text/plain": [
       "2336716"
      ]
     },
     "execution_count": 156,
     "metadata": {},
     "output_type": "execute_result"
    }
   ],
   "source": [
    "# Total complaints\n",
    "df3 = df1.dropna()\n",
    "df3.groupby(['borough', 'complaint_type'])['complaint_type'].count().sum()"
   ]
  },
  {
   "cell_type": "code",
   "execution_count": 157,
   "metadata": {
    "collapsed": true
   },
   "outputs": [],
   "source": [
    "# Total complaints per borough\n",
    "total_complaints = df3.groupby('borough')['complaint_type'].count()\n"
   ]
  },
  {
   "cell_type": "code",
   "execution_count": 158,
   "metadata": {},
   "outputs": [
    {
     "data": {
      "text/plain": [
       "borough\n",
       "BRONX            431366\n",
       "BROOKLYN         744327\n",
       "MANHATTAN        460975\n",
       "QUEENS           570341\n",
       "STATEN ISLAND    125304\n",
       "Unspecified        4403\n",
       "Name: complaint_type, dtype: int64"
      ]
     },
     "execution_count": 158,
     "metadata": {},
     "output_type": "execute_result"
    }
   ],
   "source": [
    "# Validate that df3 has all borough's\n",
    "total_complaints"
   ]
  },
  {
   "cell_type": "code",
   "execution_count": 159,
   "metadata": {
    "collapsed": true
   },
   "outputs": [],
   "source": [
    "# Create new dataframe consisting of borough and corresponding total complaint count\n",
    "df4 = pd.DataFrame({'borough':total_complaints.index, 'total_complaints':total_complaints.values})"
   ]
  },
  {
   "cell_type": "code",
   "execution_count": 160,
   "metadata": {},
   "outputs": [
    {
     "data": {
      "text/html": [
       "<div>\n",
       "<style>\n",
       "    .dataframe thead tr:only-child th {\n",
       "        text-align: right;\n",
       "    }\n",
       "\n",
       "    .dataframe thead th {\n",
       "        text-align: left;\n",
       "    }\n",
       "\n",
       "    .dataframe tbody tr th {\n",
       "        vertical-align: top;\n",
       "    }\n",
       "</style>\n",
       "<table border=\"1\" class=\"dataframe\">\n",
       "  <thead>\n",
       "    <tr style=\"text-align: right;\">\n",
       "      <th></th>\n",
       "      <th>borough</th>\n",
       "      <th>total_complaints</th>\n",
       "    </tr>\n",
       "  </thead>\n",
       "  <tbody>\n",
       "    <tr>\n",
       "      <th>0</th>\n",
       "      <td>BRONX</td>\n",
       "      <td>431366</td>\n",
       "    </tr>\n",
       "    <tr>\n",
       "      <th>1</th>\n",
       "      <td>BROOKLYN</td>\n",
       "      <td>744327</td>\n",
       "    </tr>\n",
       "    <tr>\n",
       "      <th>2</th>\n",
       "      <td>MANHATTAN</td>\n",
       "      <td>460975</td>\n",
       "    </tr>\n",
       "    <tr>\n",
       "      <th>3</th>\n",
       "      <td>QUEENS</td>\n",
       "      <td>570341</td>\n",
       "    </tr>\n",
       "    <tr>\n",
       "      <th>4</th>\n",
       "      <td>STATEN ISLAND</td>\n",
       "      <td>125304</td>\n",
       "    </tr>\n",
       "    <tr>\n",
       "      <th>5</th>\n",
       "      <td>Unspecified</td>\n",
       "      <td>4403</td>\n",
       "    </tr>\n",
       "  </tbody>\n",
       "</table>\n",
       "</div>"
      ],
      "text/plain": [
       "         borough  total_complaints\n",
       "0          BRONX            431366\n",
       "1       BROOKLYN            744327\n",
       "2      MANHATTAN            460975\n",
       "3         QUEENS            570341\n",
       "4  STATEN ISLAND            125304\n",
       "5    Unspecified              4403"
      ]
     },
     "execution_count": 160,
     "metadata": {},
     "output_type": "execute_result"
    }
   ],
   "source": [
    "df4"
   ]
  },
  {
   "cell_type": "code",
   "execution_count": 161,
   "metadata": {
    "collapsed": true
   },
   "outputs": [],
   "source": [
    "# Add new column for population\n",
    "# Dummy value\n",
    "df4['population'] = 0"
   ]
  },
  {
   "cell_type": "code",
   "execution_count": 162,
   "metadata": {},
   "outputs": [
    {
     "data": {
      "text/html": [
       "<div>\n",
       "<style>\n",
       "    .dataframe thead tr:only-child th {\n",
       "        text-align: right;\n",
       "    }\n",
       "\n",
       "    .dataframe thead th {\n",
       "        text-align: left;\n",
       "    }\n",
       "\n",
       "    .dataframe tbody tr th {\n",
       "        vertical-align: top;\n",
       "    }\n",
       "</style>\n",
       "<table border=\"1\" class=\"dataframe\">\n",
       "  <thead>\n",
       "    <tr style=\"text-align: right;\">\n",
       "      <th></th>\n",
       "      <th>borough</th>\n",
       "      <th>total_complaints</th>\n",
       "      <th>population</th>\n",
       "    </tr>\n",
       "  </thead>\n",
       "  <tbody>\n",
       "    <tr>\n",
       "      <th>0</th>\n",
       "      <td>BRONX</td>\n",
       "      <td>431366</td>\n",
       "      <td>0</td>\n",
       "    </tr>\n",
       "    <tr>\n",
       "      <th>1</th>\n",
       "      <td>BROOKLYN</td>\n",
       "      <td>744327</td>\n",
       "      <td>0</td>\n",
       "    </tr>\n",
       "    <tr>\n",
       "      <th>2</th>\n",
       "      <td>MANHATTAN</td>\n",
       "      <td>460975</td>\n",
       "      <td>0</td>\n",
       "    </tr>\n",
       "    <tr>\n",
       "      <th>3</th>\n",
       "      <td>QUEENS</td>\n",
       "      <td>570341</td>\n",
       "      <td>0</td>\n",
       "    </tr>\n",
       "    <tr>\n",
       "      <th>4</th>\n",
       "      <td>STATEN ISLAND</td>\n",
       "      <td>125304</td>\n",
       "      <td>0</td>\n",
       "    </tr>\n",
       "    <tr>\n",
       "      <th>5</th>\n",
       "      <td>Unspecified</td>\n",
       "      <td>4403</td>\n",
       "      <td>0</td>\n",
       "    </tr>\n",
       "  </tbody>\n",
       "</table>\n",
       "</div>"
      ],
      "text/plain": [
       "         borough  total_complaints  population\n",
       "0          BRONX            431366           0\n",
       "1       BROOKLYN            744327           0\n",
       "2      MANHATTAN            460975           0\n",
       "3         QUEENS            570341           0\n",
       "4  STATEN ISLAND            125304           0\n",
       "5    Unspecified              4403           0"
      ]
     },
     "execution_count": 162,
     "metadata": {},
     "output_type": "execute_result"
    }
   ],
   "source": [
    "df4"
   ]
  },
  {
   "cell_type": "code",
   "execution_count": 163,
   "metadata": {
    "collapsed": true
   },
   "outputs": [],
   "source": [
    "# Calculate difference between total complaints and population for each borough. Add the difference in a new column\n",
    "df4['diff'] = df4['total_complaints'] - df4['population']"
   ]
  },
  {
   "cell_type": "code",
   "execution_count": 164,
   "metadata": {},
   "outputs": [
    {
     "data": {
      "text/html": [
       "<div>\n",
       "<style>\n",
       "    .dataframe thead tr:only-child th {\n",
       "        text-align: right;\n",
       "    }\n",
       "\n",
       "    .dataframe thead th {\n",
       "        text-align: left;\n",
       "    }\n",
       "\n",
       "    .dataframe tbody tr th {\n",
       "        vertical-align: top;\n",
       "    }\n",
       "</style>\n",
       "<table border=\"1\" class=\"dataframe\">\n",
       "  <thead>\n",
       "    <tr style=\"text-align: right;\">\n",
       "      <th></th>\n",
       "      <th>borough</th>\n",
       "      <th>total_complaints</th>\n",
       "      <th>population</th>\n",
       "      <th>diff</th>\n",
       "    </tr>\n",
       "  </thead>\n",
       "  <tbody>\n",
       "    <tr>\n",
       "      <th>1</th>\n",
       "      <td>BROOKLYN</td>\n",
       "      <td>744327</td>\n",
       "      <td>0</td>\n",
       "      <td>744327</td>\n",
       "    </tr>\n",
       "    <tr>\n",
       "      <th>3</th>\n",
       "      <td>QUEENS</td>\n",
       "      <td>570341</td>\n",
       "      <td>0</td>\n",
       "      <td>570341</td>\n",
       "    </tr>\n",
       "    <tr>\n",
       "      <th>2</th>\n",
       "      <td>MANHATTAN</td>\n",
       "      <td>460975</td>\n",
       "      <td>0</td>\n",
       "      <td>460975</td>\n",
       "    </tr>\n",
       "    <tr>\n",
       "      <th>0</th>\n",
       "      <td>BRONX</td>\n",
       "      <td>431366</td>\n",
       "      <td>0</td>\n",
       "      <td>431366</td>\n",
       "    </tr>\n",
       "    <tr>\n",
       "      <th>4</th>\n",
       "      <td>STATEN ISLAND</td>\n",
       "      <td>125304</td>\n",
       "      <td>0</td>\n",
       "      <td>125304</td>\n",
       "    </tr>\n",
       "    <tr>\n",
       "      <th>5</th>\n",
       "      <td>Unspecified</td>\n",
       "      <td>4403</td>\n",
       "      <td>0</td>\n",
       "      <td>4403</td>\n",
       "    </tr>\n",
       "  </tbody>\n",
       "</table>\n",
       "</div>"
      ],
      "text/plain": [
       "         borough  total_complaints  population    diff\n",
       "1       BROOKLYN            744327           0  744327\n",
       "3         QUEENS            570341           0  570341\n",
       "2      MANHATTAN            460975           0  460975\n",
       "0          BRONX            431366           0  431366\n",
       "4  STATEN ISLAND            125304           0  125304\n",
       "5    Unspecified              4403           0    4403"
      ]
     },
     "execution_count": 164,
     "metadata": {},
     "output_type": "execute_result"
    }
   ],
   "source": [
    "# Sort by difference\n",
    "df4.sort_values(by=['diff'], ascending=False)"
   ]
  },
  {
   "cell_type": "code",
   "execution_count": null,
   "metadata": {
    "collapsed": true
   },
   "outputs": [],
   "source": []
  }
 ],
 "metadata": {
  "kernelspec": {
   "display_name": "Python 2",
   "language": "python",
   "name": "python2"
  },
  "language_info": {
   "codemirror_mode": {
    "name": "ipython",
    "version": 2
   },
   "file_extension": ".py",
   "mimetype": "text/x-python",
   "name": "python",
   "nbconvert_exporter": "python",
   "pygments_lexer": "ipython2",
   "version": "2.7.10"
  }
 },
 "nbformat": 4,
 "nbformat_minor": 2
}
